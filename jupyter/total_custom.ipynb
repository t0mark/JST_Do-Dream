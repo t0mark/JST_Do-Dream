{
 "cells": [
  {
   "cell_type": "markdown",
   "id": "55d5070e",
   "metadata": {},
   "source": [
    "# 종합점수.csv 수정"
   ]
  },
  {
   "cell_type": "code",
   "execution_count": 20,
   "id": "dfe54493",
   "metadata": {},
   "outputs": [],
   "source": [
    "import pandas as pd\n",
    "\n",
    "df1 = pd.read_csv(\"../data/논벼_생산량_정리(정곡).ver2.csv\")\n",
    "df2 = pd.read_csv(\"../data/논벼_생산량_정리(조곡).ver2.csv\")\n",
    "df3 = pd.read_csv(\"../data/논벼_생산량_정리(현미).ver2.csv\")"
   ]
  },
  {
   "cell_type": "code",
   "execution_count": 32,
   "id": "69ce85ff",
   "metadata": {},
   "outputs": [
    {
     "name": "stdout",
     "output_type": "stream",
     "text": [
      "Index(['지역', '재배면적_ha', '10a당_생산량_kg', '생산량_톤', '재배면적_km2', '생산량_톤)',\n",
      "       '톤_퍼_km2'],\n",
      "      dtype='object')\n"
     ]
    }
   ],
   "source": [
    "print(df1.columns)"
   ]
  },
  {
   "cell_type": "code",
   "execution_count": 33,
   "id": "328ff8ca",
   "metadata": {},
   "outputs": [],
   "source": [
    "# 필요한 컬럼만 추출\n",
    "df1_selected = df1[[\"지역\", \"10a당_생산량_kg\"]]\n",
    "df2_selected = df2[[\"지역\", \"10a당_생산량_kg\"]]\n",
    "df3_selected = df3[[\"지역\", \"10a당_생산량_kg\"]]\n",
    "\n",
    "# 지역으로 조인하여 생산량 합계 계산\n",
    "merged_df = df1_selected.merge(df2_selected, on=\"지역\", suffixes=(\"_정곡\", \"_조곡\"))\n",
    "merged_df = merged_df.merge(df3_selected, on=\"지역\")\n",
    "merged_df.rename(columns={\"10a당_생산량_kg\": \"10a당_생산량_kg_현미\"}, inplace=True)\n",
    "\n",
    "# 생산량 합계 계산\n",
    "merged_df[\"경작지 당 생산량 [kg/10a]\"] = (\n",
    "    merged_df[\"10a당_생산량_kg_정곡\"] + \n",
    "    merged_df[\"10a당_생산량_kg_조곡\"] + \n",
    "    merged_df[\"10a당_생산량_kg_현미\"]\n",
    ")\n",
    "\n",
    "# 최종 테이블 (지역과 합계 컬럼만)\n",
    "final_df = merged_df[[\"지역\", \"경작지 당 생산량 [kg/10a]\"]]"
   ]
  },
  {
   "cell_type": "code",
   "execution_count": 34,
   "id": "11b97fa9",
   "metadata": {},
   "outputs": [
    {
     "data": {
      "text/plain": [
       "Index(['지역', '경작지 당 생산량 [kg/10a]'], dtype='object')"
      ]
     },
     "execution_count": 34,
     "metadata": {},
     "output_type": "execute_result"
    }
   ],
   "source": [
    "final_df.columns"
   ]
  },
  {
   "cell_type": "code",
   "execution_count": 36,
   "id": "543fe130",
   "metadata": {},
   "outputs": [],
   "source": [
    "# JSON 파일로 저장\n",
    "final_df.to_json(\"../docs/data/논벼_생산량_합계.json\", orient=\"records\", force_ascii=False, indent=2)"
   ]
  }
 ],
 "metadata": {
  "kernelspec": {
   "display_name": "Python 3",
   "language": "python",
   "name": "python3"
  },
  "language_info": {
   "codemirror_mode": {
    "name": "ipython",
    "version": 3
   },
   "file_extension": ".py",
   "mimetype": "text/x-python",
   "name": "python",
   "nbconvert_exporter": "python",
   "pygments_lexer": "ipython3",
   "version": "3.13.5"
  }
 },
 "nbformat": 4,
 "nbformat_minor": 5
}
