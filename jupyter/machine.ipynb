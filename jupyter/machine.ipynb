{
 "cells": [
  {
   "cell_type": "code",
   "execution_count": 5,
   "metadata": {},
   "outputs": [
    {
     "name": "stdout",
     "output_type": "stream",
     "text": [
      "메인 파일: (2668, 6)\n",
      "경북 파일: (22, 19)\n",
      "전남 파일: (22, 22)\n",
      "전북 파일: (14, 15)\n",
      "     연도     시도  시군구     기종   기종상세  보유현황\n",
      "0  2018  서울특별시  노원구  동력경운기  동력경운기     2\n",
      "1  2018  서울특별시  양천구  동력경운기  동력경운기     7\n",
      "2  2018  서울특별시  강서구  동력경운기  동력경운기    48\n",
      "3  2018  서울특별시  서초구  동력경운기  동력경운기    13\n",
      "4  2018  서울특별시  강남구  동력경운기  동력경운기    10\n"
     ]
    }
   ],
   "source": [
    "# 데이터 로드 & 확인\n",
    "import pandas as pd\n",
    "import json\n",
    "import os\n",
    "\n",
    "# 원본 파일 읽기\n",
    "df_main = pd.read_csv('../data/raw/농기계보유현황.csv', encoding='cp949')\n",
    "df_gyeongbuk = pd.read_csv('../data/raw/농기계보유현황_경북.csv', encoding='cp949')\n",
    "df_jeonnam = pd.read_csv('../data/raw/농기계보유현황_전남.csv', encoding='cp949')\n",
    "df_jeonbuk = pd.read_csv('../data/raw/농기계보유현황_전북.csv', encoding='cp949')\n",
    "\n",
    "print(\"메인 파일:\", df_main.shape)\n",
    "print(\"경북 파일:\", df_gyeongbuk.shape)\n",
    "print(\"전남 파일:\", df_jeonnam.shape)\n",
    "print(\"전북 파일:\", df_jeonbuk.shape)\n",
    "print(df_main.head())"
   ]
  },
  {
   "cell_type": "code",
   "execution_count": 6,
   "metadata": {},
   "outputs": [
    {
     "name": "stdout",
     "output_type": "stream",
     "text": [
      "변환 규칙 설정 완료\n"
     ]
    }
   ],
   "source": [
    "# 지역명 변환 규칙\n",
    "sido_mapping = {\n",
    "    '전라남도': '전남', '전북특별자치도': '전북', '전라북도': '전북',\n",
    "    '강원특별자치도': '강원', '강원도': '강원', '경기도': '경기',\n",
    "    '경상남도': '경남', '경상북도': '경북', '충청남도': '충남', '충청북도': '충북'\n",
    "}\n",
    "\n",
    "metropolitan_cities = ['서울특별시', '부산광역시', '대구광역시', '인천광역시', \n",
    "                      '광주광역시', '대전광역시', '울산광역시']\n",
    "\n",
    "def convert_region_name(sido, sigungu):\n",
    "    if sido in metropolitan_cities:\n",
    "        return sido\n",
    "    elif sido == '세종특별자치시':\n",
    "        return '세종시'\n",
    "    elif sido == '제주특별자치도':\n",
    "        return '제주시' if '제주시' in sigungu else '서귀포시'\n",
    "    else:\n",
    "        short_sido = sido_mapping.get(sido, sido)\n",
    "        # 시 단위 구 통합\n",
    "        if '구' in sigungu:\n",
    "            city_name = sigungu.split(' ')[0] if ' ' in sigungu else sigungu.replace('구', '시')\n",
    "            return f\"{short_sido} {city_name}\"\n",
    "        else:\n",
    "            return f\"{short_sido} {sigungu}\"\n",
    "\n",
    "print(\"변환 규칙 설정 완료\")"
   ]
  },
  {
   "cell_type": "code",
   "execution_count": 7,
   "metadata": {},
   "outputs": [
    {
     "name": "stdout",
     "output_type": "stream",
     "text": [
      "메인 파일 처리 완료\n",
      "경북 파일 처리 완료: 22개 시군구\n",
      "전남 파일 처리 완료: 22개 시군구\n",
      "전북 파일 처리 완료: 14개 시군구\n",
      "\n",
      "총 77개 지역 데이터\n",
      "        지역  농기계보유현황\n",
      "18   인천광역시    72077\n",
      "12   대구광역시    48582\n",
      "10  경기 평택시    46269\n",
      "17   울산광역시    43741\n",
      "26  경북 상주시    38150\n",
      "29  경북 의성군    37591\n",
      "22  경북 안동시    34715\n",
      "16     세종시    31840\n",
      "20  경북 경주시    30015\n",
      "21  경북 김천시    29853\n"
     ]
    }
   ],
   "source": [
    "# 데이터 집계\n",
    "all_results = []\n",
    "\n",
    "# 1. 메인 파일 처리 (기존 방식)\n",
    "if '시도' in df_main.columns and '시군구' in df_main.columns and '보유현황' in df_main.columns:\n",
    "    df_main['지역'] = df_main.apply(lambda row: convert_region_name(row['시도'], row['시군구']), axis=1)\n",
    "    main_result = df_main.groupby('지역')['보유현황'].sum().reset_index()\n",
    "    main_result.columns = ['지역', '농기계보유현황']\n",
    "    all_results.append(main_result)\n",
    "    print(\"메인 파일 처리 완료\")\n",
    "\n",
    "# 2. 경북 파일 처리 (시군구별)\n",
    "if len(df_gyeongbuk) > 0:\n",
    "    gyeongbuk_results = []\n",
    "    first_col = df_gyeongbuk.columns[0]  # 시군구 컬럼\n",
    "    numeric_cols = df_gyeongbuk.select_dtypes(include=['int64', 'float64']).columns\n",
    "    \n",
    "    for _, row in df_gyeongbuk.iterrows():\n",
    "        sigungu = row[first_col]\n",
    "        total_count = row[numeric_cols].sum()\n",
    "        gyeongbuk_results.append({\n",
    "            '지역': f'경북 {sigungu}',\n",
    "            '농기계보유현황': int(total_count)\n",
    "        })\n",
    "    \n",
    "    gyeongbuk_df = pd.DataFrame(gyeongbuk_results)\n",
    "    all_results.append(gyeongbuk_df)\n",
    "    print(f\"경북 파일 처리 완료: {len(gyeongbuk_df)}개 시군구\")\n",
    "\n",
    "# 3. 전남 파일 처리 (시군구별)\n",
    "if len(df_jeonnam) > 0:\n",
    "    jeonnam_results = []\n",
    "    first_col = df_jeonnam.columns[0]  # 시군구 컬럼\n",
    "    numeric_cols = df_jeonnam.select_dtypes(include=['int64', 'float64']).columns\n",
    "    \n",
    "    for _, row in df_jeonnam.iterrows():\n",
    "        sigungu = row[first_col]\n",
    "        total_count = row[numeric_cols].sum()\n",
    "        jeonnam_results.append({\n",
    "            '지역': f'전남 {sigungu}',\n",
    "            '농기계보유현황': int(total_count)\n",
    "        })\n",
    "    \n",
    "    jeonnam_df = pd.DataFrame(jeonnam_results)\n",
    "    all_results.append(jeonnam_df)\n",
    "    print(f\"전남 파일 처리 완료: {len(jeonnam_df)}개 시군구\")\n",
    "\n",
    "# 4. 전북 파일 처리 (시군구별)\n",
    "if len(df_jeonbuk) > 0:\n",
    "    jeonbuk_results = []\n",
    "    first_col = df_jeonbuk.columns[0]  # 시군구 컬럼\n",
    "    numeric_cols = df_jeonbuk.select_dtypes(include=['int64', 'float64']).columns\n",
    "    \n",
    "    for _, row in df_jeonbuk.iterrows():\n",
    "        sigungu = row[first_col]\n",
    "        total_count = row[numeric_cols].sum()\n",
    "        jeonbuk_results.append({\n",
    "            '지역': f'전북 {sigungu}',\n",
    "            '농기계보유현황': int(total_count)\n",
    "        })\n",
    "    \n",
    "    jeonbuk_df = pd.DataFrame(jeonbuk_results)\n",
    "    all_results.append(jeonbuk_df)\n",
    "    print(f\"전북 파일 처리 완료: {len(jeonbuk_df)}개 시군구\")\n",
    "\n",
    "# 5. 모든 결과 통합\n",
    "result_df = pd.concat(all_results, ignore_index=True)\n",
    "result_df = result_df.sort_values('농기계보유현황', ascending=False)\n",
    "\n",
    "print(f\"\\n총 {len(result_df)}개 지역 데이터\")\n",
    "print(result_df.head(10))"
   ]
  },
  {
   "cell_type": "code",
   "execution_count": 8,
   "metadata": {},
   "outputs": [
    {
     "name": "stdout",
     "output_type": "stream",
     "text": [
      "✓ 파일 저장 완료\n",
      "총 77개 지역 데이터\n",
      "총 농기계: 1,232,726대\n"
     ]
    }
   ],
   "source": [
    "# 결과 저장\n",
    "os.makedirs('../docs/data', exist_ok=True)\n",
    "os.makedirs('../data', exist_ok=True)\n",
    "\n",
    "with open('../docs/data/농기계보유현황.json', 'w', encoding='utf-8') as f:\n",
    "    json.dump(result_df.to_dict('records'), f, ensure_ascii=False, indent=2)\n",
    "\n",
    "result_df.to_csv('../data/농기계보유현황.csv', index=False, encoding='utf-8-sig')\n",
    "\n",
    "print(\"✓ 파일 저장 완료\")\n",
    "print(f\"총 {len(result_df)}개 지역 데이터\")\n",
    "print(f\"총 농기계: {result_df['농기계보유현황'].sum():,}대\")"
   ]
  }
 ],
 "metadata": {
  "kernelspec": {
   "display_name": "Python 3",
   "language": "python",
   "name": "python3"
  },
  "language_info": {
   "codemirror_mode": {
    "name": "ipython",
    "version": 3
   },
   "file_extension": ".py",
   "mimetype": "text/x-python",
   "name": "python",
   "nbconvert_exporter": "python",
   "pygments_lexer": "ipython3",
   "version": "3.8.5"
  }
 },
 "nbformat": 4,
 "nbformat_minor": 4
}
