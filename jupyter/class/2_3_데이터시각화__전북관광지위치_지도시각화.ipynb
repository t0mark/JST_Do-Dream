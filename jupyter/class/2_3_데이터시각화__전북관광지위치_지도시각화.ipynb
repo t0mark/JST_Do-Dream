{
  "cells": [
    {
      "cell_type": "markdown",
      "source": [
        "#한글폰트 설치"
      ],
      "metadata": {
        "id": "IKwYpauDimdP"
      },
      "id": "IKwYpauDimdP"
    },
    {
      "cell_type": "code",
      "source": [
        "# 코드 실행 후 런타임 > 세션 다시 시작\n",
        "!sudo apt-get install -y fonts-nanum\n",
        "!sudo fc-cache -fv\n",
        "!rm ~/.cache/matplotlib -rf"
      ],
      "metadata": {
        "id": "YC7GXIFUleqO"
      },
      "id": "YC7GXIFUleqO",
      "execution_count": null,
      "outputs": []
    },
    {
      "cell_type": "code",
      "source": [
        "import warnings\n",
        "warnings.filterwarnings(\"ignore\")"
      ],
      "metadata": {
        "id": "3t5NlwdYl2Nx"
      },
      "id": "3t5NlwdYl2Nx",
      "execution_count": null,
      "outputs": []
    },
    {
      "cell_type": "markdown",
      "source": [
        "#🌍지도에 시각화 하기"
      ],
      "metadata": {
        "id": "1DWAHM1DiqJl"
      },
      "id": "1DWAHM1DiqJl"
    },
    {
      "cell_type": "markdown",
      "source": [
        "##folium\n",
        "* Python에서 Leaflet.js 기반의 인터랙티브 지도를 만들 수 있는 라이브러리\n",
        "* 지리 데이터를 시각화하거나, 마커, 도형, 팝업 등을 통해 지도 위에 다양한 정보를 시각적으로 표현\n",
        "* HTML 형태의 인터랙티브(마우스 줌/이동 가능) 지도 생성 가능 → 웹에서 공유 또는 저장 용이\n",
        "* 좌표에 마커 및 텍스트 추가 가능\n",
        "* 밀도 시각화 및 클러스터링 가능\n",
        "* Stamen, OpenStreetMap, Carto 등 다양한 배경지도 선택 가능\n",
        "* 사용예 : 관광지 위치 안내 및 분석, 상권 분석 및 고객 분포 시각화, 공공데이터 기반 정책 분석,  교통량, 사고, 재난 위치 시각화,  환경 모니터링 및 센서 데이터 시각화"
      ],
      "metadata": {
        "id": "y-KQcrTMitCP"
      },
      "id": "y-KQcrTMitCP"
    },
    {
      "cell_type": "markdown",
      "source": [
        "### 참고 자료\n",
        "* 공식 문서: https://python-visualization.github.io/folium/\n",
        "* GitHub: https://github.com/python-visualization/folium"
      ],
      "metadata": {
        "id": "ejj93A2WjrNN"
      },
      "id": "ejj93A2WjrNN"
    },
    {
      "cell_type": "markdown",
      "source": [
        "### folium 라이브러리 설치"
      ],
      "metadata": {
        "id": "B9PYVntLjSKd"
      },
      "id": "B9PYVntLjSKd"
    },
    {
      "cell_type": "code",
      "source": [
        "!pip install folium"
      ],
      "metadata": {
        "id": "YMfG8htcnPZ3"
      },
      "id": "YMfG8htcnPZ3",
      "execution_count": null,
      "outputs": []
    },
    {
      "cell_type": "markdown",
      "source": [
        "### 데이터 불러오기"
      ],
      "metadata": {
        "id": "kFEl-QgJip4s"
      },
      "id": "kFEl-QgJip4s"
    },
    {
      "cell_type": "code",
      "source": [
        "from google.colab import files\n",
        "filename = list(files.upload().keys())[0]"
      ],
      "metadata": {
        "id": "m8GKwP575ppL"
      },
      "id": "m8GKwP575ppL",
      "execution_count": null,
      "outputs": []
    },
    {
      "cell_type": "code",
      "execution_count": null,
      "metadata": {
        "id": "A8kjtALjlanM"
      },
      "outputs": [],
      "source": [
        "# 라이브러리 불러오기\n",
        "import pandas as pd\n",
        "import folium\n",
        "\n",
        "# 엑셀 파일 불러오기\n",
        "df = pd.read_excel(filename)"
      ],
      "id": "A8kjtALjlanM"
    },
    {
      "cell_type": "code",
      "source": [
        "#데이터 정보 확인"
      ],
      "metadata": {
        "id": "QAN5_et8xvYi"
      },
      "id": "QAN5_et8xvYi",
      "execution_count": null,
      "outputs": []
    },
    {
      "cell_type": "code",
      "source": [
        " # 좌표 없는 행 제거\n"
      ],
      "metadata": {
        "id": "mzkmVzldoka0"
      },
      "id": "mzkmVzldoka0",
      "execution_count": null,
      "outputs": []
    },
    {
      "cell_type": "markdown",
      "source": [
        "## 🗺️관광지 마커 표시"
      ],
      "metadata": {
        "id": "Lpmb7mg2voaa"
      },
      "id": "Lpmb7mg2voaa"
    },
    {
      "cell_type": "markdown",
      "source": [
        "### marker cluster\n",
        "* folium.plugins 모듈에 포함된 기능으로,\n",
        "지도 상에 다수의 마커(marker)가 밀집되어 있을 때, 자동으로 클러스터(군집)로 묶어 보여주는 도구\n",
        "* 줌 레벨에 따라 마커를 그룹으로 묶거나 개별적으로 보여주며, 가독성 향상과 성능 개선 효과를 제공\n",
        "* 지도의 가독성 향상\n",
        "\n",
        "~~~\n",
        "import folium\n",
        "from folium.plugins import MarkerCluster\n",
        "~~~"
      ],
      "metadata": {
        "id": "WT9QtkrCj7XY"
      },
      "id": "WT9QtkrCj7XY"
    },
    {
      "cell_type": "markdown",
      "source": [
        "### 사용 예시\n",
        "~~~\n",
        "from folium.plugins import MarkerCluster\n",
        "\n",
        "marker_cluster = MarkerCluster(\n",
        "    name=\"클러스터 이름\",\n",
        "    overlay=True,\n",
        "    control=True,\n",
        "    icon_create_function=None,\n",
        "    disableClusteringAtZoom=None,\n",
        "    showCoverageOnHover=True,\n",
        "    zoomToBoundsOnClick=True,\n",
        "    spiderfyOnMaxZoom=True\n",
        ")\n",
        "~~~"
      ],
      "metadata": {
        "id": "MC64OMx_klh1"
      },
      "id": "MC64OMx_klh1"
    },
    {
      "cell_type": "markdown",
      "source": [
        "### 옵션 사항\n",
        "| 옵션명                           | 기본값    | 설명                                                                 |\n",
        "| ----------------------------- | ------ | ------------------------------------------------------------------ |\n",
        "| **`name`**                    | `None` | 클러스터 레이어의 이름을 지정. `folium.LayerControl()`과 함께 사용할 경우 레이어 이름으로 표시됨. |\n",
        "| **`overlay`**                 | `True` | 지도에 덮어쓰는 오버레이로 추가할지 여부.                                            |\n",
        "| **`control`**                 | `True` | `LayerControl()`에서 표시 여부를 설정할 수 있도록 함.                             |\n",
        "| **`icon_create_function`**    | `None` | 클러스터 마커의 아이콘을 커스터마이징하는 JavaScript 함수 (사용자 정의 가능).                  |\n",
        "| **`disableClusteringAtZoom`** | `None` | 지정된 줌 레벨 이상에서는 클러스터링을 해제하고 개별 마커로 표시함.                             |\n",
        "| **`showCoverageOnHover`**     | `True` | 마우스 오버 시, 클러스터가 포함하는 마커 영역을 하이라이팅.                                 |\n",
        "| **`zoomToBoundsOnClick`**     | `True` | 클러스터 클릭 시, 해당 클러스터에 포함된 마커 영역으로 자동 확대.                             |\n",
        "| **`spiderfyOnMaxZoom`**       | `True` | 최대 줌 상태에서도 여러 마커가 겹치는 경우, 마커들을 방사형으로 퍼뜨려 표시함 (spiderfy 효과).        |\n"
      ],
      "metadata": {
        "id": "iNaIddxYkqh-"
      },
      "id": "iNaIddxYkqh-"
    },
    {
      "cell_type": "markdown",
      "source": [
        "### 참고 자료\n",
        "* 공식 문서: https://python-visualization.github.io/folium/plugins.html\n",
        "\n",
        "* MarkerCluster Docs: https://leaflet.github.io/Leaflet.markercluster"
      ],
      "metadata": {
        "id": "jrM3lFi2kXI9"
      },
      "id": "jrM3lFi2kXI9"
    },
    {
      "cell_type": "code",
      "execution_count": null,
      "metadata": {
        "id": "J4dB0pBnlanN"
      },
      "outputs": [],
      "source": [
        "# 지도 생성 (전북 중심)\n",
        "jeonbuk_map = folium.Map(location=[35.8, 127.1], zoom_start=9)"
      ],
      "id": "J4dB0pBnlanN"
    },
    {
      "cell_type": "code",
      "source": [
        "from folium.plugins import MarkerCluster\n",
        "# MarkerCluster 생성\n"
      ],
      "metadata": {
        "id": "iX5bHPkEqJKd"
      },
      "id": "iX5bHPkEqJKd",
      "execution_count": null,
      "outputs": []
    },
    {
      "cell_type": "code",
      "execution_count": null,
      "metadata": {
        "id": "3YwNewtIlanO"
      },
      "outputs": [],
      "source": [
        "# 관광지별 마커 추가(기본 glyphicon 사용)\n",
        "for idx, row in df.iterrows():\n",
        "    popup_text = f\"<b>{row['관광지명']}</b><br>주소: {row['주소']}\"\n",
        "    #-------- 지도 생성 코드 여기에 ------------\n",
        "\n",
        "    #-------- 지도 생성 코드 여기에 ------------\n",
        "    ).add_to(marker_cluster)"
      ],
      "id": "3YwNewtIlanO"
    },
    {
      "cell_type": "code",
      "execution_count": null,
      "metadata": {
        "id": "9fGdzfbelanO"
      },
      "outputs": [],
      "source": [
        "#결과 지도 보기\n"
      ],
      "id": "9fGdzfbelanO"
    },
    {
      "cell_type": "markdown",
      "source": [
        "## 🗺️ 방문객수 circle 크기로 표현"
      ],
      "metadata": {
        "id": "BRvXV2z7skUg"
      },
      "id": "BRvXV2z7skUg"
    },
    {
      "cell_type": "markdown",
      "source": [
        "### circle marker\n",
        "* 지도 위에 원을 이용해 특정 위치를 표시하는 마커\n",
        "* 기본 folium.Marker보다 스타일을 더 세밀하게 조정할 수 있음\n",
        "* 지도의 확대/축소 수준에 크기가 고정되어 있어 데이터 포인트 강조에 유리\n",
        "* 지도 시각화에서 데이터의 양적 크기, 밀도, 중요도 등을 시각적으로 표현할 때 유용\n",
        "* 사용 예 : 사건/사고 발생 위치 표시, 데이터 수치 크기에 따라 원 크기 조절 (ex: 인구, 매출), 밀도/분포 지도에서 점 강조\n"
      ],
      "metadata": {
        "id": "UDuPqRxPlB_G"
      },
      "id": "UDuPqRxPlB_G"
    },
    {
      "cell_type": "markdown",
      "source": [
        "### 사용예시\n",
        "~~~\n",
        "import folium\n",
        "\n",
        "# 지도 생성\n",
        "m = folium.Map(location=[37.5665, 126.9780], zoom_start=12)\n",
        "\n",
        "# CircleMarker 추가\n",
        "folium.CircleMarker(\n",
        "    location=[37.5665, 126.9780],\n",
        "    radius=10,                 # 반지름\n",
        "    popup=\"서울시청\",\n",
        "    color='blue',              # 테두리 색\n",
        "    fill=True,\n",
        "    fill_color='skyblue',\n",
        "    fill_opacity=0.7\n",
        ").add_to(m)\n",
        "\n",
        "# 저장\n",
        "m.save(\"circlemarker_example.html\")\n",
        "~~~"
      ],
      "metadata": {
        "id": "0be3VmsxlXdi"
      },
      "id": "0be3VmsxlXdi"
    },
    {
      "cell_type": "markdown",
      "source": [
        "###옵션 설명\n",
        "| 옵션명            | 설명                        |\n",
        "| -------------- | ------------------------- |\n",
        "| `location`     | 마커 위치 (위도, 경도)            |\n",
        "| `radius`       | 원의 반지름 (픽셀 단위)            |\n",
        "| `popup`        | 클릭 시 나타나는 텍스트             |\n",
        "| `tooltip`      | 마우스 오버 시 텍스트              |\n",
        "| `color`        | 외곽선 색상                    |\n",
        "| `fill`         | 내부 채움 여부 (`True`/`False`) |\n",
        "| `fill_color`   | 내부 색상                     |\n",
        "| `fill_opacity` | 내부 색상의 투명도 (0\\~1)         |\n",
        "| `weight`       | 테두리 두께                    |\n"
      ],
      "metadata": {
        "id": "ff91kHttlbe0"
      },
      "id": "ff91kHttlbe0"
    },
    {
      "cell_type": "markdown",
      "source": [
        "### 참고자료\n",
        "* 공식 문서: https://python-visualization.github.io/folium/modules.html#folium.vector_layers.CircleMarker"
      ],
      "metadata": {
        "id": "8EiZrGhqlj9K"
      },
      "id": "8EiZrGhqlj9K"
    },
    {
      "cell_type": "code",
      "source": [
        "# 지도 및 클러스터 초기화\n",
        "jeonbuk_map2 = folium.Map(location=[35.8, 127.1], zoom_start=9)\n",
        "marker_cluster = MarkerCluster().add_to(jeonbuk_map2)\n",
        "\n",
        "# 관광지별 마커 추가\n",
        "for idx, row in df.iterrows():\n",
        "    popup_text = f\"<b>{row['관광지명']}</b><br>주소: {row['주소']}<br>방문객수: {row['방문객수']:,}명\"\n",
        "    #-------- 지도 생성 코드 여기에 ------------\n",
        "\n",
        "    #-------- 지도 생성 코드 여기에 ------------\n",
        "    ).add_to(marker_cluster)\n",
        "#결과 지도 보기\n",
        "jeonbuk_map2"
      ],
      "metadata": {
        "id": "GuaGdlWysjvD"
      },
      "id": "GuaGdlWysjvD",
      "execution_count": null,
      "outputs": []
    },
    {
      "cell_type": "markdown",
      "source": [
        "##🗺️시/군별 관광지 분포 밀도 시각화"
      ],
      "metadata": {
        "id": "1Y2Rs32Bvkpm"
      },
      "id": "1Y2Rs32Bvkpm"
    },
    {
      "cell_type": "markdown",
      "source": [
        "###heat map\n",
        "* 위치 데이터를 시각적으로 밀도 기반으로 표현하는 방식\n",
        "* 데이터가 많이 모여 있는 곳은 진한 색상, 적은 곳은 연한 색상으로 표현\n",
        "* 공간적 분포와 집중도를 직관적으로 파악\n",
        "* 데이터 수집 지점이 많을수록 색상이 진해지고, 밀집된 지역을 한눈에 알 수 있음\n",
        "* 사용 예: 사건/사고 분포 분석 (예: 교통사고, 범죄), 상권 밀집도 시각화, 환경 센서 분포 (예: 미세먼지, 온도 측정 지점), 관광지 방문 위치 분석, 소셜미디어 위치 기반 포스팅 분석\n",
        "\n"
      ],
      "metadata": {
        "id": "BfDpEQDVl85q"
      },
      "id": "BfDpEQDVl85q"
    },
    {
      "cell_type": "markdown",
      "source": [
        "### 사용예시\n",
        "~~~\n",
        "import folium\n",
        "from folium.plugins import HeatMap\n",
        "\n",
        "# 지도 생성\n",
        "m = folium.Map(location=[37.5665, 126.9780], zoom_start=11)\n",
        "\n",
        "# 히트맵 좌표 데이터 예시\n",
        "heat_data = [\n",
        "    [37.5665, 126.9780],\n",
        "    [37.5651, 126.9895],\n",
        "    [37.5700, 126.9768],\n",
        "    [37.5700, 126.9768],\n",
        "    [37.5700, 126.9768]\n",
        "]\n",
        "\n",
        "# 히트맵 추가\n",
        "HeatMap(heat_data).add_to(m)\n",
        "\n",
        "# 저장\n",
        "m.save(\"heatmap_example.html\")\n",
        "\n",
        "~~~"
      ],
      "metadata": {
        "id": "MC6a42kWmIQY"
      },
      "id": "MC6a42kWmIQY"
    },
    {
      "cell_type": "markdown",
      "source": [
        "### 옵션 설명\n",
        "\n",
        "| 옵션명           | 설명                                |\n",
        "| ------------- | --------------------------------- |\n",
        "| `data`        | `[위도, 경도]` 또는 `[위도, 경도, 가중치]` 리스트 |\n",
        "| `radius`      | 원의 반경 (기본값: 25)                   |\n",
        "| `blur`        | 흐림 효과 강도 (기본값: 15)                |\n",
        "| `min_opacity` | 최소 투명도 (기본값: 0.5)                 |\n",
        "| `max_zoom`    | 클러스터링 해제 줌 레벨                     |\n",
        "| `gradient`    | 색상 그라데이션 커스터마이징 (`dict`)          |\n"
      ],
      "metadata": {
        "id": "GgLHLT75mRiZ"
      },
      "id": "GgLHLT75mRiZ"
    },
    {
      "cell_type": "markdown",
      "source": [
        "### 참고자료\n",
        "* HeatMap Docs: https://python-visualization.github.io/folium/plugins.html#folium.plugins.HeatMap\n",
        "\n"
      ],
      "metadata": {
        "id": "vHo6sZQumdYg"
      },
      "id": "vHo6sZQumdYg"
    },
    {
      "cell_type": "code",
      "source": [
        "from folium.plugins import HeatMap\n",
        "#지도 중심 위치 설정 (전북 중심 좌표)\n",
        "jeonbuk_map3 = folium.Map(location=[35.8, 127.1], zoom_start=9)\n",
        "\n",
        "#HeatMap에 들어갈 좌표 데이터 만들기 (리스트 형태)\n",
        "#-------- 지도 생성 코드 여기에 ------------\n",
        "\n",
        "#-------- 지도 생성 코드 여기에 ------------\n",
        "jeonbuk_map3"
      ],
      "metadata": {
        "id": "-AspKaFzvDZo"
      },
      "id": "-AspKaFzvDZo",
      "execution_count": null,
      "outputs": []
    }
  ],
  "metadata": {
    "kernelspec": {
      "display_name": "Python 3",
      "language": "python",
      "name": "python3"
    },
    "language_info": {
      "name": "python",
      "version": "3.11"
    },
    "colab": {
      "provenance": []
    }
  },
  "nbformat": 4,
  "nbformat_minor": 5
}