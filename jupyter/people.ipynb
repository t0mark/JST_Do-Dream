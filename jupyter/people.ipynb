{
 "cells": [
  {
   "cell_type": "markdown",
   "id": "541551a9",
   "metadata": {},
   "source": [
    "# 농업 가구 수"
   ]
  },
  {
   "cell_type": "code",
   "execution_count": null,
   "id": "e547ff6b",
   "metadata": {},
   "outputs": [],
   "source": []
  }
 ],
 "metadata": {
  "language_info": {
   "name": "python"
  }
 },
 "nbformat": 4,
 "nbformat_minor": 5
}
