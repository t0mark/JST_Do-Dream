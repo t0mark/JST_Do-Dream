{
 "cells": [
  {
   "cell_type": "markdown",
   "id": "541551a9",
   "metadata": {},
   "source": [
    "# 농업 가구 수"
   ]
  },
  {
   "cell_type": "code",
   "execution_count": 52,
   "id": "e547ff6b",
   "metadata": {},
   "outputs": [],
   "source": [
    "import pandas as pd\n",
    "import json\n",
    "\n",
    "# 지역별 농가 및 농가인구 데이터 읽기\n",
    "df_sejong = pd.read_csv(\"../data/raw/농가_및_농가인구_세종.csv\", skiprows=0)\n",
    "df_gyeonggi = pd.read_csv(\"../data/raw/농가_및_농가인구_경기.csv\", skiprows=0)\n",
    "df_gangwon = pd.read_csv(\"../data/raw/농가_및_농가인구_강원.csv\", skiprows=0)\n",
    "df_chungbuk = pd.read_csv(\"../data/raw/농가_및_농가인구_충북.csv\", skiprows=0)\n",
    "df_chungnam = pd.read_csv(\"../data/raw/농가_및_농가인구_충남.csv\", skiprows=0)\n",
    "df_jeonbuk = pd.read_csv(\"../data/raw/농가_및_농가인구_전북.csv\", skiprows=0)\n",
    "df_jeonnam = pd.read_csv(\"../data/raw/농가_및_농가인구_전남.csv\", skiprows=0)\n",
    "df_gyeongbuk = pd.read_csv(\"../data/raw/농가_및_농가인구_경북.csv\", skiprows=0)\n",
    "df_gyeongnam = pd.read_csv(\"../data/raw/농가_및_농가인구_경남.csv\", skiprows=0)\n",
    "df_jeju = pd.read_csv(\"../data/raw/농가_및_농가인구_제주.csv\")"
   ]
  },
  {
   "cell_type": "code",
   "execution_count": 53,
   "id": "adcc17a1",
   "metadata": {},
   "outputs": [
    {
     "name": "stdout",
     "output_type": "stream",
     "text": [
      "   시군별(1)  시군별(2)     2023   2023.1   2023.2    2023.3    2023.4    2023.5\n",
      "0  시군별(1)  시군별(2)  농가 (가구)  농가 (가구)  농가 (가구)  농가인구 (명)  농가인구 (명)  농가인구 (명)\n",
      "1  시군별(1)  시군별(2)       소계       전업       겸업        소계        남자        여자\n",
      "2      합계      소계   109629    53120    56509    264459    132166    132293\n",
      "3      남부      소계    77087    37753    39331    183667     91374     92294\n",
      "4      남부     수원시     3575      957     2619      9892      5039      4853\n"
     ]
    }
   ],
   "source": [
    "print(df_gyeonggi.head())"
   ]
  },
  {
   "cell_type": "code",
   "execution_count": 68,
   "id": "b53977ab",
   "metadata": {},
   "outputs": [],
   "source": [
    "# 세종 데이터에서 농가수 추출\n",
    "sejong_farm_count = df_sejong[df_sejong['항목'] == '농가수 (가구)']['2021'].iloc[0]\n",
    "\n",
    "# 세종 테이블 생성\n",
    "df_sejong_summary = pd.DataFrame({\n",
    "    '지역': ['세종시'],\n",
    "    '농가수': [sejong_farm_count]\n",
    "})\n",
    "# print(df_sejong_summary)"
   ]
  },
  {
   "cell_type": "code",
   "execution_count": 69,
   "id": "185dc297",
   "metadata": {},
   "outputs": [
    {
     "name": "stdout",
     "output_type": "stream",
     "text": [
      "         지역   농가수\n",
      "0    경기 수원시  3575\n",
      "1    경기 성남시  1137\n",
      "2    경기 안양시  1020\n",
      "3    경기 부천시  1036\n",
      "4    경기 광명시   648\n",
      "5    경기 평택시  7946\n",
      "6    경기 안산시  1659\n",
      "7    경기 과천시   246\n",
      "8    경기 오산시  1132\n",
      "9    경기 시흥시  1321\n",
      "10   경기 군포시   596\n",
      "11   경기 의왕시   673\n",
      "12   경기 하남시   719\n",
      "13   경기 용인시  6913\n",
      "14   경기 이천시  7908\n",
      "15   경기 안성시  9421\n",
      "16   경기 김포시  5187\n",
      "17   경기 화성시  9819\n",
      "18   경기 광주시  3928\n",
      "19   경기 여주시  6398\n",
      "20   경기 양평군  5805\n",
      "21  경기 의정부시  1055\n",
      "22  경기 동두천시   630\n",
      "23   경기 고양시  5266\n",
      "24   경기 구리시   437\n",
      "25  경기 남양주시  3558\n",
      "26   경기 파주시  7012\n",
      "27   경기 양주시  3153\n",
      "28   경기 포천시  5355\n",
      "29   경기 연천군  2844\n",
      "30   경기 가평군  3235\n"
     ]
    }
   ],
   "source": [
    "# 경기도 각 시/군별 데이터 추출 (소계 행만 제외)\n",
    "gyeonggi_data = []\n",
    "for _, row in df_gyeonggi.iterrows():\n",
    "    if row.iloc[1] != '소계':  # 두 번째 칼럼이 '소계'가 아닌 행만\n",
    "        region_name = f\"경기 {row.iloc[1]}\"  # \"경기 수원시\" 형태\n",
    "        farm_count = row.iloc[2]  # 농가 소계\n",
    "        gyeonggi_data.append({'지역': region_name, '농가수': farm_count})\n",
    "\n",
    "# 경기도 테이블 생성\n",
    "df_gyeonggi_summary = pd.DataFrame(gyeonggi_data)\n",
    "print(df_gyeonggi_summary)"
   ]
  },
  {
   "cell_type": "code",
   "execution_count": 70,
   "id": "64120045",
   "metadata": {},
   "outputs": [
    {
     "name": "stdout",
     "output_type": "stream",
     "text": [
      "        지역    농가수\n",
      "0   강원 춘천시  14340\n",
      "1   강원 원주시  19586\n",
      "2   강원 강릉시  14787\n",
      "3   강원 동해시   3713\n",
      "4   강원 태백시   1379\n",
      "5   강원 속초시   2441\n",
      "6   강원 삼척시   7444\n",
      "7   강원 홍천군  14183\n",
      "8   강원 횡성군  11670\n",
      "9   강원 영월군   6915\n",
      "10  강원 평창군   8270\n",
      "11  강원 정선군   4080\n",
      "12  강원 철원군   7533\n",
      "13  강원 화천군   3663\n",
      "14  강원 양구군   3964\n",
      "15  강원 인제군   5754\n",
      "16  강원 고성군   4569\n",
      "17  강원 양양군   5410\n"
     ]
    }
   ],
   "source": [
    "# 강원도 데이터 헤더 설정\n",
    "df_gangwon.columns = ['시군별', '농가수_합계', '농가수_남자', '농가수_여자']\n",
    "df_gangwon = df_gangwon.drop([0]).reset_index(drop=True)\n",
    "\n",
    "# 강원도 각 시/군별 데이터 추출 (전체 제외)\n",
    "gangwon_data = []\n",
    "for _, row in df_gangwon.iterrows():\n",
    "    if row.iloc[0] != '전체':  # 전체 행 제외\n",
    "        region_name = f\"강원 {row.iloc[0]}\"  # \"강원 춘천시\", \"강원 원주시\" 형태\n",
    "        farm_count = row.iloc[1]  # 농가수\n",
    "        gangwon_data.append({'지역': region_name, '농가수': farm_count})\n",
    "\n",
    "# 강원도 테이블 생성\n",
    "df_gangwon_summary = pd.DataFrame(gangwon_data)\n",
    "print(df_gangwon_summary)"
   ]
  },
  {
   "cell_type": "code",
   "execution_count": 71,
   "id": "bb342445",
   "metadata": {},
   "outputs": [
    {
     "name": "stdout",
     "output_type": "stream",
     "text": [
      "        지역    농가수\n",
      "0   충북 청주시  17457\n",
      "1   충북 충주시  10001\n",
      "2   충북 제천시   6300\n",
      "3   충북 보은군   4434\n",
      "4   충북 옥천군   5256\n",
      "5   충북 영동군   6567\n",
      "6   충북 증평군   1397\n",
      "7   충북 진천군   4479\n",
      "8   충북 괴산군   5696\n",
      "9   충북 음성군   6662\n",
      "10  충북 단양군   3288\n"
     ]
    }
   ],
   "source": [
    "# 충북 데이터 헤더 설정\n",
    "df_chungbuk.columns = ['시군별', '농가현황별1', '농가현황별2', '농가현황별3', '2020', '2021', '2022']\n",
    "\n",
    "# 충북 각 시/군별 데이터 추출 (계 제외하고, 농가(가구) 소계 행만)\n",
    "chungbuk_data = []\n",
    "for _, row in df_chungbuk.iterrows():\n",
    "    if (row.iloc[0] != '계' and \n",
    "        row.iloc[1] == '농가 (가구)' and \n",
    "        row.iloc[2] == '소계'):  # 농가수 소계 행만\n",
    "        region_name = f\"충북 {row.iloc[0]}\"  # \"충북 청주시\" 형태\n",
    "        farm_count = row.iloc[6]  # 2022년 데이터\n",
    "        chungbuk_data.append({'지역': region_name, '농가수': farm_count})\n",
    "\n",
    "# 충북 테이블 생성\n",
    "df_chungbuk_summary = pd.DataFrame(chungbuk_data)\n",
    "print(df_chungbuk_summary)"
   ]
  },
  {
   "cell_type": "code",
   "execution_count": 72,
   "id": "10651837",
   "metadata": {},
   "outputs": [
    {
     "name": "stdout",
     "output_type": "stream",
     "text": [
      "        지역    농가수\n",
      "0   충남 서산시  10623\n",
      "1   충남 논산시   9599\n",
      "2   충남 계룡시    480\n",
      "3   충남 당진시  10695\n",
      "4   충남 금산군   6235\n",
      "5   충남 부여군   7119\n",
      "6   충남 서천군   6741\n",
      "7   충남 청양군   5569\n",
      "8   충남 홍성군   9365\n",
      "9   충남 예산군   8486\n",
      "10  충남 태안군   6895\n"
     ]
    }
   ],
   "source": [
    "# 충남 데이터 헤더 설정\n",
    "df_chungnam.columns = ['행정구역', '농가_소계', '농가_전업', '농가_겸업', '농가인구_소계', '농가인구_남', '농가인구_여']\n",
    "df_chungnam = df_chungnam.drop([0, 1, 2, 3]).reset_index(drop=True)\n",
    "\n",
    "# 충남 각 시/군별 데이터 추출 (합계 제외)\n",
    "chungnam_data = []\n",
    "for _, row in df_chungnam.iterrows():\n",
    "    if row.iloc[0] != '합계':  # 합계 행 제외\n",
    "        region_name = f\"충남 {row.iloc[0]}\"  # \"충남 천안시\" 형태\n",
    "        farm_count = row.iloc[1]  # 농가 소계\n",
    "        chungnam_data.append({'지역': region_name, '농가수': farm_count})\n",
    "\n",
    "# 충남 테이블 생성\n",
    "df_chungnam_summary = pd.DataFrame(chungnam_data)\n",
    "print(df_chungnam_summary)"
   ]
  },
  {
   "cell_type": "code",
   "execution_count": 73,
   "id": "f5a0e7db",
   "metadata": {},
   "outputs": [
    {
     "name": "stdout",
     "output_type": "stream",
     "text": [
      "        지역    농가수\n",
      "0   전북 군산시   6558\n",
      "1   전북 익산시  10674\n",
      "2   전북 정읍시  10396\n",
      "3   전북 남원시   7375\n",
      "4   전북 김제시   7608\n",
      "5   전북 완주군   7392\n",
      "6   전북 진안군   3457\n",
      "7   전북 무주군   3995\n",
      "8   전북 장수군   3504\n",
      "9   전북 임실군   3349\n",
      "10  전북 순창군   4793\n",
      "11  전북 고창군   7946\n",
      "12  전북 부안군   6857\n"
     ]
    }
   ],
   "source": [
    "# 전북 데이터 헤더 설정\n",
    "df_jeonbuk.columns = ['행정구역', '농가_소계', '농가_전업', '농가_겸업', '농가인구_소계', '농가인구_남', '농가인구_여']\n",
    "df_jeonbuk = df_jeonbuk.drop([0, 1]).reset_index(drop=True)\n",
    "\n",
    "# 전북 각 시/군별 데이터 추출 (합계 제외)\n",
    "jeonbuk_data = []\n",
    "for _, row in df_jeonbuk.iterrows():\n",
    "    if row.iloc[0] != '합계':  # 합계 행 제외\n",
    "        region_name = f\"전북 {row.iloc[0]}\"  # \"전북 전주시\" 형태\n",
    "        farm_count = row.iloc[1]  # 농가 소계\n",
    "        jeonbuk_data.append({'지역': region_name, '농가수': farm_count})\n",
    "\n",
    "# 전북 테이블 생성\n",
    "df_jeonbuk_summary = pd.DataFrame(jeonbuk_data)\n",
    "print(df_jeonbuk_summary)"
   ]
  },
  {
   "cell_type": "code",
   "execution_count": 74,
   "id": "3169bebd",
   "metadata": {},
   "outputs": [
    {
     "name": "stdout",
     "output_type": "stream",
     "text": [
      "        지역    농가수\n",
      "0   전남 여수시   9023\n",
      "1   전남 순천시  12664\n",
      "2   전남 나주시  10708\n",
      "3   전남 광양시   6892\n",
      "4   전남 담양군   6621\n",
      "5   전남 곡성군   4598\n",
      "6   전남 구례군   4246\n",
      "7   전남 고흥군   9039\n",
      "8   전남 보성군   7093\n",
      "9   전남 화순군   5967\n",
      "10  전남 장흥군   5593\n",
      "11  전남 강진군   5366\n",
      "12  전남 해남군  11074\n",
      "13  전남 영암군   6917\n",
      "14  전남 무안군   7172\n",
      "15  전남 함평군   5522\n",
      "16  전남 영광군   6048\n",
      "17  전남 장성군   6079\n",
      "18  전남 완도군   3341\n",
      "19  전남 진도군   4579\n",
      "20  전남 신안군   6825\n"
     ]
    }
   ],
   "source": [
    "# 전남 데이터 헤더 설정\n",
    "df_jeonnam.columns = ['행정구역', '농가_소계', '농가_전업', '농가_겸업', '농가인구_소계', '농가인구_남자', '농가인구_여자']\n",
    "df_jeonnam = df_jeonnam.drop([0, 1]).reset_index(drop=True)\n",
    "\n",
    "# 전남 각 시/군별 데이터 추출 (합계 제외)\n",
    "jeonnam_data = []\n",
    "for _, row in df_jeonnam.iterrows():\n",
    "    if row.iloc[0] != '합계':  # 합계 행 제외\n",
    "        region_name = f\"전남 {row.iloc[0]}\"  # \"전남 목포시\" 형태\n",
    "        farm_count = row.iloc[1]  # 농가 소계\n",
    "        jeonnam_data.append({'지역': region_name, '농가수': farm_count})\n",
    "\n",
    "# 전남 테이블 생성\n",
    "df_jeonnam_summary = pd.DataFrame(jeonnam_data)\n",
    "print(df_jeonnam_summary)"
   ]
  },
  {
   "cell_type": "code",
   "execution_count": 75,
   "id": "1bc2bec3",
   "metadata": {},
   "outputs": [
    {
     "name": "stdout",
     "output_type": "stream",
     "text": [
      "        지역    농가수\n",
      "0   경북 김천시  12605\n",
      "1   경북 안동시  11416\n",
      "2   경북 구미시   9912\n",
      "3   경북 영주시   7992\n",
      "4   경북 영천시   7968\n",
      "5   경북 상주시  13652\n",
      "6   경북 문경시   7539\n",
      "7   경북 경산시   6812\n",
      "8   경북 의성군   8637\n",
      "9   경북 청송군   5299\n",
      "10  경북 영양군   2896\n",
      "11  경북 영덕군   3102\n",
      "12  경북 청도군   6582\n",
      "13  경북 고령군   3930\n",
      "14  경북 성주군   5836\n",
      "15  경북 칠곡군   4601\n",
      "16  경북 예천군   7974\n",
      "17  경북 봉화군   5716\n",
      "18  경북 울진군   4151\n",
      "19  경북 울릉군    452\n"
     ]
    }
   ],
   "source": [
    "# 경북 데이터 헤더 설정\n",
    "df_gyeongbuk.columns = ['행정구역', '농가_소계', '농가_전업', '농가_겸업', '농가인구_소계', '농가인구_남자', '농가인구_여자']\n",
    "df_gyeongbuk = df_gyeongbuk.drop([0, 1, 2]).reset_index(drop=True)\n",
    "\n",
    "# 경북 각 시/군별 데이터 추출 (합계 제외)\n",
    "gyeongbuk_data = []\n",
    "for _, row in df_gyeongbuk.iterrows():\n",
    "    if row.iloc[0] != '합계':  # 합계 행 제외\n",
    "        region_name = f\"경북 {row.iloc[0]}\"  # \"경북 포항시\" 형태\n",
    "        farm_count = row.iloc[1]  # 농가 소계\n",
    "        gyeongbuk_data.append({'지역': region_name, '농가수': farm_count})\n",
    "\n",
    "# 경북 테이블 생성\n",
    "df_gyeongbuk_summary = pd.DataFrame(gyeongbuk_data)\n",
    "print(df_gyeongbuk_summary)"
   ]
  },
  {
   "cell_type": "code",
   "execution_count": 76,
   "id": "f24ebe80",
   "metadata": {},
   "outputs": [
    {
     "name": "stdout",
     "output_type": "stream",
     "text": [
      "        지역    농가수\n",
      "0   경남 진주시  12211\n",
      "1   경남 통영시   3269\n",
      "2   경남 사천시   5654\n",
      "3   경남 김해시   8175\n",
      "4   경남 밀양시   9431\n",
      "5   경남 거제시   5595\n",
      "6   경남 양산시   2761\n",
      "7   경남 의령군   3956\n",
      "8   경남 함안군   5113\n",
      "9   경남 창녕군   6977\n",
      "10  경남 고성군   5370\n",
      "11  경남 남해군   6645\n",
      "12  경남 하동군   5974\n",
      "13  경남 산청군   5376\n",
      "14  경남 함양군   4708\n",
      "15  경남 거창군   5535\n",
      "16  경남 합천군   6353\n"
     ]
    }
   ],
   "source": [
    "# 경남 데이터 헤더 설정\n",
    "df_gyeongnam.columns = ['행정구역', '농가_소계', '농가_전업', '농가_겸업', '농가인구_소계', '농가인구_남', '농가인구_여']\n",
    "df_gyeongnam = df_gyeongnam.drop([0, 1]).reset_index(drop=True)\n",
    "\n",
    "# 경남 각 시/군별 데이터 추출 (합계 제외)\n",
    "gyeongnam_data = []\n",
    "for _, row in df_gyeongnam.iterrows():\n",
    "    if row.iloc[0] != '합계':  # 합계 행 제외\n",
    "        region_name = f\"경남 {row.iloc[0]}\"  # \"경남 창원시\" 형태\n",
    "        farm_count = row.iloc[1]  # 농가 소계\n",
    "        gyeongnam_data.append({'지역': region_name, '농가수': farm_count})\n",
    "\n",
    "# 경남 테이블 생성\n",
    "df_gyeongnam_summary = pd.DataFrame(gyeongnam_data)\n",
    "print(df_gyeongnam_summary)"
   ]
  },
  {
   "cell_type": "code",
   "execution_count": 77,
   "id": "8f6551d2",
   "metadata": {},
   "outputs": [
    {
     "name": "stdout",
     "output_type": "stream",
     "text": [
      "     지역    농가수\n",
      "0   제주시  17170\n",
      "1  서귀포시  13186\n"
     ]
    }
   ],
   "source": [
    "# 제주도 데이터 읽기\n",
    "df_jeju = pd.read_csv(\"../data/raw/농가_및_농가인구_제주.csv\")\n",
    "\n",
    "# 제주 데이터 헤더 설정\n",
    "df_jeju.columns = ['행정구역', '농가_소계', '농가_전업', '농가_겸업', '농가인구_소계', '농가인구_남자', '농가인구_여자']\n",
    "df_jeju = df_jeju.drop([0, 1]).reset_index(drop=True)\n",
    "\n",
    "# 제주 각 시별 데이터 추출 (합계 제외)\n",
    "jeju_data = []\n",
    "for _, row in df_jeju.iterrows():\n",
    "    if row.iloc[0] != '합계':  # 합계 행 제외\n",
    "        region_name = row.iloc[0]  # \"제주시\", \"서귀포시\" 그대로\n",
    "        farm_count = row.iloc[1]  # 농가 소계\n",
    "        jeju_data.append({'지역': region_name, '농가수': farm_count})\n",
    "\n",
    "# 제주 테이블 생성\n",
    "df_jeju_summary = pd.DataFrame(jeju_data)\n",
    "print(df_jeju_summary)"
   ]
  },
  {
   "cell_type": "code",
   "execution_count": 78,
   "id": "e9e898db",
   "metadata": {},
   "outputs": [
    {
     "name": "stdout",
     "output_type": "stream",
     "text": [
      "         지역    농가수\n",
      "0       세종시   6573\n",
      "1    경기 수원시   3575\n",
      "2    경기 성남시   1137\n",
      "3    경기 안양시   1020\n",
      "4    경기 부천시   1036\n",
      "..      ...    ...\n",
      "140  경남 함양군   4708\n",
      "141  경남 거창군   5535\n",
      "142  경남 합천군   6353\n",
      "143     제주시  17170\n",
      "144    서귀포시  13186\n",
      "\n",
      "[145 rows x 2 columns]\n"
     ]
    }
   ],
   "source": [
    "# 모든 지역 테이블을 하나로 합치기\n",
    "df_all_regions = pd.concat([\n",
    "    df_sejong_summary,\n",
    "    df_gyeonggi_summary,\n",
    "    df_gangwon_summary,\n",
    "    df_chungbuk_summary,\n",
    "    df_chungnam_summary,\n",
    "    df_jeonbuk_summary,\n",
    "    df_jeonnam_summary,\n",
    "    df_gyeongbuk_summary,\n",
    "    df_gyeongnam_summary,\n",
    "    df_jeju_summary\n",
    "], ignore_index=True)\n",
    "\n",
    "print(df_all_regions)"
   ]
  },
  {
   "cell_type": "code",
   "execution_count": 85,
   "id": "4f97255e",
   "metadata": {},
   "outputs": [
    {
     "name": "stdout",
     "output_type": "stream",
     "text": [
      "저장 완료!\n"
     ]
    }
   ],
   "source": [
    "import json\n",
    "\n",
    "# 전체 테이블을 JSON으로 저장 (한국어 그대로)\n",
    "with open('../docs/data/농가수_전체.json', 'w', encoding='utf-8') as f:\n",
    "    json.dump(df_all_regions.to_dict('records'), f, ensure_ascii=False, indent=2)\n",
    "\n",
    "# 전체 테이블을 CSV로 저장\n",
    "df_all_regions.to_csv('../data/농가수_전체.csv', index=False, encoding='utf-8-sig')\n",
    "\n",
    "print(\"저장 완료!\")"
   ]
  }
 ],
 "metadata": {
  "kernelspec": {
   "display_name": "Python 3",
   "language": "python",
   "name": "python3"
  },
  "language_info": {
   "codemirror_mode": {
    "name": "ipython",
    "version": 3
   },
   "file_extension": ".py",
   "mimetype": "text/x-python",
   "name": "python",
   "nbconvert_exporter": "python",
   "pygments_lexer": "ipython3",
   "version": "3.13.5"
  }
 },
 "nbformat": 4,
 "nbformat_minor": 5
}
