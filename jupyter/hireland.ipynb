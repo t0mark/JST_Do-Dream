{
 "cells": [
  {
   "cell_type": "markdown",
   "id": "92eeacce",
   "metadata": {},
   "source": [
    "# 임차 농지"
   ]
  },
  {
   "cell_type": "code",
   "execution_count": 31,
   "id": "9d1a8614",
   "metadata": {},
   "outputs": [
    {
     "name": "stdout",
     "output_type": "stream",
     "text": [
      "   시도코드     시도  시군구  필지수  면적(ha)\n",
      "0    11  서울특별시  강남구   50     7.8\n",
      "1    11  서울특별시  강동구   50     6.4\n",
      "2    11  서울특별시  강서구  136    30.9\n",
      "3    11  서울특별시  구로구   10     1.5\n",
      "4    11  서울특별시  노원구    1     0.4\n"
     ]
    }
   ],
   "source": [
    "import pandas as pd\n",
    "import json\n",
    "\n",
    "df = pd.read_csv(\"../data/raw/임차농지_현황.csv\", encoding=\"cp949\")\n",
    "print(df.head())"
   ]
  },
  {
   "cell_type": "code",
   "execution_count": 32,
   "id": "7fbd6c94",
   "metadata": {},
   "outputs": [],
   "source": [
    "sido_mapping = {\n",
    "    '전라남도': '전남',\n",
    "    '전북특별자치도': '전북',\n",
    "    '전라북도': '전북',\n",
    "    '강원특별자치도': '강원',\n",
    "    '강원도': '강원',\n",
    "    '경기도': '경기',\n",
    "    '경상남도': '경남',\n",
    "    '경상북도': '경북',\n",
    "    '충청남도': '충남',\n",
    "    '충청북도': '충북'\n",
    "}\n",
    "\n",
    "# 서울/광역시 목록 (구 통합 대상)\n",
    "metropolitan_cities = ['서울특별시', '부산광역시', '대구광역시', '인천광역시', \n",
    "                      '광주광역시', '대전광역시', '울산광역시']\n",
    "\n",
    "def convert_region_name(sido, sigungu):\n",
    "    \"\"\"지역명을 지침에 따라 변환하는 함수\"\"\"\n",
    "    \n",
    "    # 서울/광역시 - 구 통합 (풀네임 유지)\n",
    "    if sido in metropolitan_cities:\n",
    "        return sido\n",
    "    \n",
    "    # 세종특별자치시 - 간단히 표기\n",
    "    elif sido == '세종특별자치시':\n",
    "        return '세종시'\n",
    "    \n",
    "    # 제주특별자치도 - 제주시/서귀포시로 분리\n",
    "    elif sido == '제주특별자치도':\n",
    "        if '제주시' in sigungu:\n",
    "            return '제주시'\n",
    "        elif '서귀포시' in sigungu:\n",
    "            return '서귀포시'\n",
    "        else:\n",
    "            return '제주시'  # 기본값\n",
    "    \n",
    "    # 도 단위 - 간단히 표기하고 시군구 포함\n",
    "    else:\n",
    "        short_sido = sido_mapping.get(sido, sido)\n",
    "        \n",
    "        # 시 단위 구 통합 처리 (예: \"전주시 덕진구\" -> \"전주시\")\n",
    "        if '구' in sigungu and '시' in sigungu:\n",
    "            city_name = sigungu.split()[0] if ' ' in sigungu else sigungu.replace('구', '').replace('시', '') + '시'\n",
    "            return f\"{short_sido} {city_name}\"\n",
    "        else:\n",
    "            return f\"{short_sido} {sigungu}\"\n",
    "\n",
    "df['지역'] = df.apply(lambda row: convert_region_name(row['시도'], row['시군구']), axis=1)"
   ]
  },
  {
   "cell_type": "code",
   "execution_count": 33,
   "id": "16eee38a",
   "metadata": {},
   "outputs": [],
   "source": [
    "# 지역별 그룹화 및 집계\n",
    "result_df = df.groupby('지역').agg({\n",
    "    '필지수': 'sum',\n",
    "    '면적(ha)': 'sum'\n",
    "}).reset_index()\n",
    "\n",
    "# 컬럼명 변경\n",
    "result_df.columns = ['지역', '대지의 개수 [필지수]', '면적 [ha]']\n",
    "\n",
    "# 면적 소수점 1자리로 반올림\n",
    "result_df['면적 [ha]'] = result_df['면적 [ha]'].round(1)\n",
    "\n",
    "# 지역명 순으로 정렬\n",
    "result_df = result_df.sort_values('지역').reset_index(drop=True)"
   ]
  },
  {
   "cell_type": "code",
   "execution_count": 34,
   "id": "3f6d956d",
   "metadata": {},
   "outputs": [
    {
     "name": "stdout",
     "output_type": "stream",
     "text": [
      "✓ 파일 저장 완료\n",
      "       지역  대지의 개수 [필지수]  면적 [ha]\n",
      "0  강원 강릉시         11959   2213.7\n",
      "1  강원 고성군          8327   1774.2\n",
      "2  강원 동해시          1728    201.6\n",
      "3  강원 삼척시          6432   1241.6\n",
      "4  강원 속초시           725    111.1\n"
     ]
    }
   ],
   "source": [
    "with open('../docs/data/임차농지_현황.json', 'w', encoding='utf-8') as f:\n",
    "    json.dump(result_df.to_dict('records'), f, ensure_ascii=False, indent=2)\n",
    "\n",
    "\n",
    "result_df.to_csv('../data/임차농지_현황.csv', index=False, encoding='utf-8-sig')\n",
    "\n",
    "print(f\"✓ 파일 저장 완료\")\n",
    "# 저장된 파일 확인\n",
    "print(result_df.head())"
   ]
  }
 ],
 "metadata": {
  "kernelspec": {
   "display_name": "Python 3",
   "language": "python",
   "name": "python3"
  },
  "language_info": {
   "codemirror_mode": {
    "name": "ipython",
    "version": 3
   },
   "file_extension": ".py",
   "mimetype": "text/x-python",
   "name": "python",
   "nbconvert_exporter": "python",
   "pygments_lexer": "ipython3",
   "version": "3.13.5"
  }
 },
 "nbformat": 4,
 "nbformat_minor": 5
}
