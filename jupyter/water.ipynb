{
 "cells": [
  {
   "cell_type": "markdown",
   "id": "496feedb",
   "metadata": {},
   "source": [
    "# 용/배수로 결측치만"
   ]
  },
  {
   "cell_type": "code",
   "execution_count": 2,
   "id": "860e06c9",
   "metadata": {},
   "outputs": [
    {
     "name": "stdout",
     "output_type": "stream",
     "text": [
      "✓ 결측치 처리 완료\n",
      "      지역 배수로-흙수로 [m] 배수로-구조물 [m] 용수로-흙수로 [m] 용수로-구조물 [m]\n",
      "0  부산광역시       87137       96379       52784       38174\n",
      "1  대구광역시      434590      582245      115751      163845\n",
      "2  인천광역시      233085      190267      388380      138510\n",
      "3  광주광역시      311100       55652      279734       99914\n",
      "4  대전광역시       85493       35015       33218       20054\n"
     ]
    }
   ],
   "source": [
    "import pandas as pd\n",
    "\n",
    "# 데이터 로드\n",
    "df = pd.read_csv('../data/raw/용배수로.csv', encoding='utf-8')\n",
    "\n",
    "# 결측치를 0으로 변경\n",
    "df = df.fillna(0)\n",
    "\n",
    "# 빈 문자열도 0으로 변경\n",
    "df = df.replace('', 0)\n",
    "\n",
    "# 파일 저장\n",
    "df.to_csv('../data/용배수로.csv', index=False, encoding='utf-8-sig')\n",
    "\n",
    "print(\"✓ 결측치 처리 완료\")\n",
    "print(df.head())"
   ]
  }
 ],
 "metadata": {
  "kernelspec": {
   "display_name": "Python 3",
   "language": "python",
   "name": "python3"
  },
  "language_info": {
   "codemirror_mode": {
    "name": "ipython",
    "version": 3
   },
   "file_extension": ".py",
   "mimetype": "text/x-python",
   "name": "python",
   "nbconvert_exporter": "python",
   "pygments_lexer": "ipython3",
   "version": "3.13.5"
  }
 },
 "nbformat": 4,
 "nbformat_minor": 5
}
